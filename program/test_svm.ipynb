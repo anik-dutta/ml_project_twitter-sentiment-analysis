{
 "cells": [
  {
   "cell_type": "code",
   "execution_count": 1,
   "metadata": {},
   "outputs": [],
   "source": [
    "# Model test (SVM)\n",
    "\n",
    "import numpy as np\n",
    "import pandas as pd\n",
    "from nltk.stem import PorterStemmer\n",
    "import re\n",
    "# import string\n",
    "# from sklearn.feature_extraction.text import CountVectorizer\n",
    "# from sklearn.ensemble import RandomForestClassifier\n",
    "from sklearn.model_selection import train_test_split\n",
    "from sklearn.metrics import confusion_matrix, classification_report, accuracy_score\n",
    "import warnings\n",
    "warnings.filterwarnings(\"ignore\")\n",
    "\n",
    "def remove_pattern(input_txt,pattern):\n",
    "    r = re.findall(pattern, input_txt)\n",
    "    for i in r:\n",
    "        input_txt = re.sub(i, '', input_txt)\n",
    "    return input_txt"
   ]
  },
  {
   "cell_type": "code",
   "execution_count": 2,
   "metadata": {},
   "outputs": [],
   "source": [
    "data = pd.read_csv('../train.csv')\n",
    "data = data.drop(['id'], axis = 1)\n",
    "\n",
    "data['tidy_tweet'] = np.vectorize(remove_pattern)(data['tweet'], \"@[\\w]*\")\n",
    "data['tidy_tweet'] = data['tidy_tweet'].str.replace('[^a-zA-Z]', \" \")\n",
    "\n",
    "tokenized_tweet = data['tidy_tweet'].apply(lambda x : x.split())\n",
    "pstem = PorterStemmer()\n",
    "tokenized_tweet = tokenized_tweet.apply(lambda x : [pstem.stem(i) for i in x])\n",
    "\n",
    "for i in range(len(tokenized_tweet)):\n",
    "    tokenized_tweet[i] = ' '.join(tokenized_tweet[i])\n",
    "data['tidy_tweet'] = tokenized_tweet\n",
    "\n",
    "from sklearn.utils import resample\n",
    "majority = data[data.label == 0]\n",
    "minority = data[data.label == 1]\n",
    " \n",
    "minority_upsampled = resample(minority, \n",
    "                                 replace = True,\n",
    "                                 n_samples = len(majority),  \n",
    "                                 random_state = 123)\n",
    " \n",
    "data = pd.concat([majority, minority_upsampled])\n",
    "\n",
    "x_train, x_test, y_train, y_test = train_test_split(data['tidy_tweet'], data['label'], test_size = 0.1, random_state = 42)"
   ]
  },
  {
   "cell_type": "markdown",
   "metadata": {},
   "source": [
    "# using countvectorizer"
   ]
  },
  {
   "cell_type": "code",
   "execution_count": 3,
   "metadata": {},
   "outputs": [],
   "source": [
    "# using CountVectorizer\n",
    "from sklearn.feature_extraction.text import CountVectorizer\n",
    "cv = CountVectorizer(stop_words = 'english')\n",
    "train = cv.fit_transform(x_train)\n",
    "test = cv.transform(x_test)"
   ]
  },
  {
   "cell_type": "code",
   "execution_count": 4,
   "metadata": {},
   "outputs": [
    {
     "name": "stdout",
     "output_type": "stream",
     "text": [
      "0.9931022880215343\n",
      "[[2947   30]\n",
      " [  11 2956]]\n",
      "True Positive Rate (TPR) : 99.62812711291413\n",
      "True Negative Rate (TNR) : 98.99531145344943\n",
      "False Negative Rate (FNR) : 0.37187288708586885\n",
      "False Positive Rate (FPR) : 1.0046885465505693\n",
      "              precision    recall  f1-score   support\n",
      "\n",
      "           0       1.00      0.99      0.99      2977\n",
      "           1       0.99      1.00      0.99      2967\n",
      "\n",
      "    accuracy                           0.99      5944\n",
      "   macro avg       0.99      0.99      0.99      5944\n",
      "weighted avg       0.99      0.99      0.99      5944\n",
      "\n"
     ]
    }
   ],
   "source": [
    "from sklearn.model_selection import cross_val_score\n",
    "from sklearn.svm import SVC\n",
    "sv = SVC()\n",
    "\n",
    "sv.fit(train, y_train)\n",
    "predicted = sv.predict(test)\n",
    "print(accuracy_score(predicted, y_test))\n",
    "r=confusion_matrix(y_test, predicted)\n",
    "print(r)\n",
    "print(\"True Positive Rate (TPR) :\", (r[0][0] / (r[0][0] + r[1][0])) * 100)\n",
    "print(\"True Negative Rate (TNR) :\", (r[1][1] / (r[1][1] + r[0][1])) * 100)\n",
    "print(\"False Negative Rate (FNR) :\", (r[1][0] / (r[1][0] + r[0][0])) * 100)\n",
    "print(\"False Positive Rate (FPR) :\", (r[0][1] / (r[0][1] + r[1][1])) * 100)\n",
    "c=(classification_report(y_test, predicted))\n",
    "print(c)"
   ]
  },
  {
   "cell_type": "markdown",
   "metadata": {},
   "source": [
    "# using TfidfVectorizer"
   ]
  },
  {
   "cell_type": "code",
   "execution_count": 5,
   "metadata": {},
   "outputs": [],
   "source": [
    "# using TfidfVectorizer\n",
    "from sklearn.feature_extraction.text import TfidfVectorizer\n",
    "tf = TfidfVectorizer(stop_words = 'english')\n",
    "train1 = tf.fit_transform(x_train)  #train the vectorizer, build the vocablury\n",
    "test1 = tf.transform(x_test)  #get same encodings on test data as of vocabulary built"
   ]
  },
  {
   "cell_type": "code",
   "execution_count": 6,
   "metadata": {},
   "outputs": [
    {
     "name": "stdout",
     "output_type": "stream",
     "text": [
      "0.995121130551817\n",
      "[[2948   29]\n",
      " [   0 2967]]\n",
      "True Positive Rate (TPR) : 100.0\n",
      "True Negative Rate (TNR) : 99.0320427236315\n",
      "False Negative Rate (FNR) : 0.0\n",
      "False Positive Rate (FPR) : 0.9679572763684913\n",
      "              precision    recall  f1-score   support\n",
      "\n",
      "           0       1.00      0.99      0.99      2977\n",
      "           1       0.99      1.00      0.99      2967\n",
      "\n",
      "    accuracy                           0.99      5944\n",
      "   macro avg       0.99      0.99      0.99      5944\n",
      "weighted avg       0.99      0.99      0.99      5944\n",
      "\n"
     ]
    }
   ],
   "source": [
    "sv.fit(train1, y_train)\n",
    "predicted1 = sv.predict(test1)\n",
    "print(accuracy_score(predicted1, y_test))\n",
    "r=confusion_matrix(y_test, predicted1)\n",
    "print(r)\n",
    "print(\"True Positive Rate (TPR) :\", (r[0][0] / (r[0][0] + r[1][0])) * 100)\n",
    "print(\"True Negative Rate (TNR) :\", (r[1][1] / (r[1][1] + r[0][1])) * 100)\n",
    "print(\"False Negative Rate (FNR) :\", (r[1][0] / (r[1][0] + r[0][0])) * 100)\n",
    "print(\"False Positive Rate (FPR) :\", (r[0][1] / (r[0][1] + r[1][1])) * 100)\n",
    "c=(classification_report(y_test, predicted))\n",
    "print(c)"
   ]
  }
 ],
 "metadata": {
  "kernelspec": {
   "display_name": "Python 3",
   "language": "python",
   "name": "python3"
  },
  "language_info": {
   "codemirror_mode": {
    "name": "ipython",
    "version": 3
   },
   "file_extension": ".py",
   "mimetype": "text/x-python",
   "name": "python",
   "nbconvert_exporter": "python",
   "pygments_lexer": "ipython3",
   "version": "3.7.9"
  }
 },
 "nbformat": 4,
 "nbformat_minor": 2
}
